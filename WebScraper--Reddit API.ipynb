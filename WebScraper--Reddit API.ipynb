{
 "cells": [
  {
   "cell_type": "code",
   "execution_count": 1,
   "metadata": {},
   "outputs": [],
   "source": [
    "import praw\n",
    "import pandas as pd\n",
    "import numpy as np\n",
    "import datetime as dt"
   ]
  },
  {
   "cell_type": "code",
   "execution_count": 2,
   "metadata": {},
   "outputs": [],
   "source": [
    "def spilt_parentID(s):\n",
    "    depth,required_id=s.split('_')\n",
    "    return required_id    "
   ]
  },
  {
   "cell_type": "code",
   "execution_count": 3,
   "metadata": {},
   "outputs": [],
   "source": [
    "reddit = praw.Reddit(client_id='SIYYHf_FWeaAFQ', client_secret='KwgKp1c4z16i3Bzc5rll8CDlswo', user_agent='MBAwebdata')"
   ]
  },
  {
   "cell_type": "code",
   "execution_count": 7,
   "metadata": {},
   "outputs": [],
   "source": [
    "topics_dict = { \"Thread_Id\":[], \n",
    "                \"Commented_By\":[],\n",
    "                \"Replied_To\":[],\n",
    "                \"Comments\": [],\n",
    "                \"Created\": [],\n",
    "                \"Score\":[],\n",
    "                \"Upvote\": [],\n",
    "                \"Downvote\": [],\n",
    "                \"Likes\":[],\n",
    "                \"Depth\":[],\n",
    "                \"User_Profile\":[]\n",
    "              }"
   ]
  },
  {
   "cell_type": "code",
   "execution_count": 8,
   "metadata": {},
   "outputs": [],
   "source": [
    "def scrape_reddit_comments(url_string):\n",
    "    try:\n",
    "        submission = reddit.submission(url=url_string)\n",
    "        submission.comments.replace_more(limit=0)\n",
    "        parent_dict = {} \n",
    "        for comment in submission.comments.list():\n",
    "            #print(str(comment.id)+\"  \"+str(comment.author))\n",
    "            parent_dict[str(comment.id)]=str(comment.author)\n",
    "        for comment in submission.comments.list():\n",
    "            topics_dict[\"Thread_Id\"].append(str(submission.id))\n",
    "            topics_dict[\"Commented_By\"].append(str(comment.author))\n",
    "            if(comment.depth is not 0):\n",
    "                parent_id=spilt_parentID(str(comment.parent_id))\n",
    "                if parent_id in parent_dict:            \n",
    "                    topics_dict[\"Replied_To\"].append(parent_dict[parent_id])\n",
    "                else:\n",
    "                    topics_dict[\"Replied_To\"].append(\" \")\n",
    "            else:\n",
    "                topics_dict[\"Replied_To\"].append(\" \")\n",
    "            topics_dict[\"Comments\"].append(comment.body)\n",
    "            topics_dict[\"Score\"].append(comment.score)\n",
    "            topics_dict[\"Upvote\"].append(comment.ups)\n",
    "            topics_dict[\"Downvote\"].append(comment.downs)\n",
    "            topics_dict[\"Created\"].append(dt.datetime.fromtimestamp(comment.created))\n",
    "            topics_dict[\"Likes\"].append(comment.likes)\n",
    "            topics_dict[\"Depth\"].append(comment.depth)\n",
    "            topics_dict[\"User_Profile\"].append(comment.author_flair_text)\n",
    "    except:\n",
    "        pass\n",
    "    "
   ]
  },
  {
   "cell_type": "code",
   "execution_count": 9,
   "metadata": {},
   "outputs": [],
   "source": [
    "df = pd.read_csv(r\"C:\\Users\\Upendra\\Desktop\\College\\SNA\\Project\\redditdata.csv\")\n",
    "for i in df[\"url\"]:\n",
    "    scrape_reddit_comments(i)\n",
    "topics_data = pd.DataFrame(topics_dict)"
   ]
  },
  {
   "cell_type": "code",
   "execution_count": 11,
   "metadata": {},
   "outputs": [],
   "source": [
    "topics_data.to_excel('comment_reddit1.xlsx')"
   ]
  },
  {
   "cell_type": "code",
   "execution_count": null,
   "metadata": {},
   "outputs": [],
   "source": []
  },
  {
   "cell_type": "code",
   "execution_count": null,
   "metadata": {},
   "outputs": [],
   "source": []
  },
  {
   "cell_type": "code",
   "execution_count": 141,
   "metadata": {},
   "outputs": [
    {
     "name": "stdout",
     "output_type": "stream",
     "text": [
      "MBA Grad\n",
      "\n",
      "\n",
      "Former Adcom\n",
      "\n",
      "\n",
      "None\n",
      "\n",
      "\n",
      "None\n",
      "\n",
      "\n",
      "MBA Grad\n",
      "\n",
      "\n",
      "None\n",
      "\n",
      "\n",
      "Admissions Consultant\n",
      "\n",
      "\n",
      "None\n",
      "\n",
      "\n",
      "None\n",
      "\n",
      "\n",
      "{'cw7n5mr': 'AlexBrown4', 'cyqmbne': 'DontQuixote', 'cyqe2zk': 'MBALink_Lawrence', 'cw846f9': 'DontQuixote', 'cx0xnta': 'DontQuixote', 'cwqxikq': 'presdaddy', 'czvrld7': 'shruti__singh', 'cw7mdvs': 'presdaddy', 'cx0xf9k': 'acqua_panna'}\n"
     ]
    }
   ],
   "source": [
    "#for testing purpose\n",
    "\n",
    "url_string=\"https://www.reddit.com/r/MBA/comments/3pmwl5/how_to_submit_a_profile_review/\"\n",
    "submission = reddit.submission(url=url_string)\n",
    "submission.comments.replace_more(limit=0)\n",
    "parent_dict = {} \n",
    "for comment in submission.comments.list():\n",
    "    #print(str(comment.id)+\"  \"+str(comment.author))\n",
    "    parent_dict[str(comment.id)]=str(comment.author)\n",
    "    \n",
    "    print(comment.author_flair_text)\n",
    "    \n",
    "    print(\"\\n\")\n",
    "print(parent_dict)  \n"
   ]
  },
  {
   "cell_type": "code",
   "execution_count": null,
   "metadata": {},
   "outputs": [],
   "source": [
    "for comment in submission.comments.list():\n",
    "    topics_dict[\"Thread_Id\"].append(str(submission.id))\n",
    "    topics_dict[\"Commented_By\"].append(str(comment.author))\n",
    "    if(comment.depth is not 0):\n",
    "        parent_id=spilt_parentID(str(comment.parent_id))\n",
    "        if parent_id in parent_dict:            \n",
    "            topics_dict[\"Replied_To\"].append(parent_dict[parent_id])\n",
    "        else:\n",
    "            topics_dict[\"Replied_To\"].append(\" \")\n",
    "    else:\n",
    "        topics_dict[\"Replied_To\"].append(\" \")\n",
    "    topics_dict[\"Comments\"].append(comment.body)\n",
    "    topics_dict[\"Score\"].append(comment.score)\n",
    "    topics_dict[\"Upvote\"].append(comment.upvote)\n",
    "    topics_dict[\"Downvote\"].append(comment.downvote)\n",
    "    topics_dict[\"Created\"].append(comment.created_utc)\n",
    "    topics_dict[\"Likes\"].append(comment.likes)\n",
    "    topics_dict[\"Depth\"].append(comment.depth)"
   ]
  }
 ],
 "metadata": {
  "kernelspec": {
   "display_name": "Python 2",
   "language": "python",
   "name": "python2"
  },
  "language_info": {
   "codemirror_mode": {
    "name": "ipython",
    "version": 2
   },
   "file_extension": ".py",
   "mimetype": "text/x-python",
   "name": "python",
   "nbconvert_exporter": "python",
   "pygments_lexer": "ipython2",
   "version": "2.7.15"
  }
 },
 "nbformat": 4,
 "nbformat_minor": 2
}
